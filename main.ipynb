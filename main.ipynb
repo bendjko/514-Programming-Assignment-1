{
 "cells": [
  {
   "cell_type": "markdown",
   "metadata": {},
   "source": [
    "# CSE 514A Programming Assignment 1\n"
   ]
  },
  {
   "cell_type": "code",
   "execution_count": null,
   "metadata": {},
   "outputs": [],
   "source": [
    "import numpy as np\n",
    "import matplotlib.pyplot as plt\n",
    "import pandas as pd\n",
    "from sklearn.model_selection import train_test_split\n",
    "import random"
   ]
  },
  {
   "cell_type": "markdown",
   "metadata": {},
   "source": [
    "## 1. Data Pre-processing\n",
    "\n",
    "Pre-process the attribute values of your data by normalizing or standardizing each variable. Keep a copy that was not pre-processed, so you can analyze the effect that pre-processing the data has on the optimization."
   ]
  },
  {
   "cell_type": "code",
   "execution_count": null,
   "metadata": {},
   "outputs": [],
   "source": [
    "# raw data\n",
    "headerlist = ['cement component', 'blast furnace slag', 'fly ash', 'water', 'superplasticizer', 'coarse aggregate', 'fine aggregate', 'age', 'concrete compressive strength']\n",
    "data_old = pd.read_excel('Concrete_Data.xls', names=headerlist)\n",
    "data_old"
   ]
  },
  {
   "cell_type": "code",
   "execution_count": null,
   "metadata": {},
   "outputs": [],
   "source": [
    "# preprocessing\n",
    "data_new = data_old.copy()\n",
    "\n"
   ]
  },
  {
   "cell_type": "code",
   "execution_count": null,
   "metadata": {},
   "outputs": [],
   "source": [
    "# plot both original data and pre-processed data\n",
    "data_new.hist(alpha=0.5, figsize=(15, 10))\n",
    "data_old.hist(alpha=0.5, figsize=(15, 10))\n",
    "plt.tight_layout()\n",
    "plt.show()  \n",
    "\n",
    "# split data into train and test\n",
    "X_old_train, X_old_test, y_old_train, y_old_test = train_test_split(data_old[headerlist[0:8]], data_old[headerlist[8]], test_size=130, random_state=0)\n",
    "X_new_train, X_new_test, y_new_train, y_new_test = train_test_split(data_new[headerlist[0:8]], data_new[headerlist[8]], test_size=130, random_state=0)"
   ]
  },
  {
   "cell_type": "markdown",
   "metadata": {},
   "source": [
    "## B) Univariate Linear Regression"
   ]
  },
  {
   "cell_type": "code",
   "execution_count": null,
   "metadata": {},
   "outputs": [],
   "source": [
    "class univariate_regression:\n",
    "\n",
    "    def __init__(self, X_train, X_test, Y_train, Y_test):\n",
    "        self.X_train = X_train\n",
    "        self.X_test = X_test\n",
    "        self.Y_train = Y_train\n",
    "        self.Y_test = Y_test\n",
    "\n",
    "    def initialize_variables(self):\n",
    "        m = random.random()\n",
    "        b = random.random()\n",
    "        return m, b\n",
    "    \n",
    "    def make_prediciton(self,m, X, b):\n",
    "        return m*X + b\n",
    "    \n",
    "    def mse(self,Y, Y_pred):\n",
    "        return(1/np.size(Y))*np.sum(np.subtract(Y-Y_pred)**2)\n",
    "\n",
    "    def gradient_descent(self, X, Y, m, b, alpha, iterations):\n",
    "        for i in range(iterations):\n",
    "            Y_pred = self.make_predicton(m, X, b)\n",
    "            cost = self.mse(Y, Y_pred)\n",
    "            update_m = 0\n",
    "            update_b = 0\n",
    "            for j in range(np.size(X)):\n",
    "                x_i = X[j]\n",
    "                y_i = Y[j]\n",
    "                update_m += -2*x_i*(y_i - (m*x_i + b))\n",
    "                update_b += -2*(y_i - (m*x_i + b))\n",
    "            m = m - (alpha/np.size(X)*update_m)\n",
    "            b = b - (alpha/np.size(X)*update_b)\n",
    "        return m, b, cost\n",
    "    \n",
    "    def plot(self, X, Y, m, b):\n",
    "        plt.scatter(X, Y, color='blue')\n",
    "        plt.plot(X, m*X + b, color='red')\n",
    "        plt.show()\n",
    "    \n",
    "    def run(self, alpha, iterations):\n",
    "        m, b = self.initialize_variables()\n",
    "        m, b, cost = self.gradient_descent(self.X_train, self.Y_train, m, b, alpha, iterations)\n",
    "        self.plot(self.X_test, self.Y_test, m, b)\n",
    "        return m, b, cost\n"
   ]
  },
  {
   "cell_type": "code",
   "execution_count": null,
   "metadata": {},
   "outputs": [],
   "source": []
  },
  {
   "cell_type": "markdown",
   "metadata": {},
   "source": [
    "## C) Multivariate Linear Regression"
   ]
  },
  {
   "cell_type": "code",
   "execution_count": null,
   "metadata": {},
   "outputs": [],
   "source": [
    "class multivariate_linear_regression:\n",
    "\n",
    "    def __init__(self, X_train, X_test, Y_train, Y_test):\n",
    "        self.X_train = X_train\n",
    "        self.X_test = X_test\n",
    "        self.Y_train = Y_train\n",
    "        self.Y_test = Y_test\n",
    "\n",
    "    def initialize_variables(self):\n",
    "        m = random.random()\n",
    "        b = random.random()\n",
    "        return m, b\n",
    "    \n",
    "    def make_prediciton(self,m, X, b):\n",
    "        return m*X + b\n",
    "    \n",
    "    def mse(self,Y, Y_pred):\n",
    "        return(1/np.size(Y))*np.sum(np.subtract(Y-Y_pred)**2)\n",
    "\n",
    "    def batch_gradient_descent(self, X, Y, m, b, alpha, iterations):\n",
    "        for i in range(iterations):\n",
    "            Y_pred = self.make_predicton(m, X, b)\n",
    "            cost = self.mse(Y, Y_pred)\n",
    "            update_m = 0\n",
    "            update_b = 0\n",
    "            for j in range(np.size(X)):\n",
    "                x_i = X[j]\n",
    "                y_i = Y[j]\n",
    "                update_m += -2*x_i*(y_i - (m*x_i + b))\n",
    "                update_b += -2*(y_i - (m*x_i + b))\n",
    "            m = m - (alpha/np.size(X)*update_m)\n",
    "            b = b - (alpha/np.size(X)*update_b)\n",
    "        return m, b, cost\n",
    "    \n",
    "    def variance(self, X):\n",
    "        return np.var(X)\n",
    "    \n",
    "    def variance_explained(self, X, Y, m, b):\n",
    "        Y_pred = self.make_prediciton(m, X, b)\n",
    "        return (1-(np.var(Y_pred)/np.var(Y)))\n",
    "    def plot(self, X, Y, m, b):\n",
    "        plt.scatter(X, Y, color='blue')\n",
    "        plt.plot(X, m*X + b, color='red')\n",
    "        plt.show()\n",
    "    \n",
    "    def run(self, alpha, iterations):\n",
    "        m, b = self.initialize_variables()\n",
    "        m, b, cost = self.gradient_descent(self.X_train, self.Y_train, m, b, alpha, iterations)\n",
    "        self.plot(self.X_test, self.Y_test, m, b)\n",
    "        return m, b, cost\n"
   ]
  },
  {
   "cell_type": "markdown",
   "metadata": {},
   "source": [
    "## D) Results"
   ]
  },
  {
   "cell_type": "code",
   "execution_count": null,
   "metadata": {},
   "outputs": [],
   "source": []
  }
 ],
 "metadata": {
  "kernelspec": {
   "display_name": "Python 3",
   "language": "python",
   "name": "python3"
  },
  "language_info": {
   "codemirror_mode": {
    "name": "ipython",
    "version": 3
   },
   "file_extension": ".py",
   "mimetype": "text/x-python",
   "name": "python",
   "nbconvert_exporter": "python",
   "pygments_lexer": "ipython3",
   "version": "3.9.6"
  },
  "orig_nbformat": 4
 },
 "nbformat": 4,
 "nbformat_minor": 2
}
